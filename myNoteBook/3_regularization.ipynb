{
 "cells": [
  {
   "cell_type": "markdown",
   "metadata": {
    "colab_type": "text",
    "id": "kR-4eNdK6lYS"
   },
   "source": [
    "Deep Learning\n",
    "=============\n",
    "\n",
    "Assignment 3\n",
    "------------\n",
    "\n",
    "Previously in `2_fullyconnected.ipynb`, you trained a logistic regression and a neural network model.\n",
    "\n",
    "The goal of this assignment is to explore regularization techniques."
   ]
  },
  {
   "cell_type": "code",
   "execution_count": 2,
   "metadata": {
    "cellView": "both",
    "colab": {
     "autoexec": {
      "startup": false,
      "wait_interval": 0
     }
    },
    "colab_type": "code",
    "id": "JLpLa8Jt7Vu4"
   },
   "outputs": [
    {
     "name": "stderr",
     "output_type": "stream",
     "text": [
      "/usr/local/lib/python2.7/dist-packages/h5py/__init__.py:36: FutureWarning: Conversion of the second argument of issubdtype from `float` to `np.floating` is deprecated. In future, it will be treated as `np.float64 == np.dtype(float).type`.\n",
      "  from ._conv import register_converters as _register_converters\n"
     ]
    }
   ],
   "source": [
    "# These are all the modules we'll be using later. Make sure you can import them\n",
    "# before proceeding further.\n",
    "from __future__ import print_function\n",
    "import numpy as np\n",
    "import tensorflow as tf\n",
    "from six.moves import cPickle as pickle\n",
    "import matplotlib.pyplot as plt"
   ]
  },
  {
   "cell_type": "markdown",
   "metadata": {
    "colab_type": "text",
    "id": "1HrCK6e17WzV"
   },
   "source": [
    "First reload the data we generated in `1_notmnist.ipynb`."
   ]
  },
  {
   "cell_type": "code",
   "execution_count": 3,
   "metadata": {
    "cellView": "both",
    "colab": {
     "autoexec": {
      "startup": false,
      "wait_interval": 0
     },
     "output_extras": [
      {
       "item_id": 1
      }
     ]
    },
    "colab_type": "code",
    "executionInfo": {
     "elapsed": 11777,
     "status": "ok",
     "timestamp": 1449849322348,
     "user": {
      "color": "",
      "displayName": "",
      "isAnonymous": false,
      "isMe": true,
      "permissionId": "",
      "photoUrl": "",
      "sessionId": "0",
      "userId": ""
     },
     "user_tz": 480
    },
    "id": "y3-cj1bpmuxc",
    "outputId": "e03576f1-ebbe-4838-c388-f1777bcc9873"
   },
   "outputs": [
    {
     "name": "stdout",
     "output_type": "stream",
     "text": [
      "Training set (200000, 28, 28) (200000,)\n",
      "Validation set (10000, 28, 28) (10000,)\n",
      "Test set (10000, 28, 28) (10000,)\n"
     ]
    }
   ],
   "source": [
    "pickle_file = '/home/magicz/tensorflow/workspace1/mydata/notmnist/notMNIST.pickle'\n",
    "\n",
    "with open(pickle_file, 'rb') as f:\n",
    "  save = pickle.load(f)\n",
    "  train_dataset = save['train_dataset']\n",
    "  train_labels = save['train_labels']\n",
    "  valid_dataset = save['valid_dataset']\n",
    "  valid_labels = save['valid_labels']\n",
    "  test_dataset = save['test_dataset']\n",
    "  test_labels = save['test_labels']\n",
    "  del save  # hint to help gc free up memory\n",
    "  print('Training set', train_dataset.shape, train_labels.shape)\n",
    "  print('Validation set', valid_dataset.shape, valid_labels.shape)\n",
    "  print('Test set', test_dataset.shape, test_labels.shape)"
   ]
  },
  {
   "cell_type": "markdown",
   "metadata": {
    "colab_type": "text",
    "id": "L7aHrm6nGDMB"
   },
   "source": [
    "Reformat into a shape that's more adapted to the models we're going to train:\n",
    "- data as a flat matrix,\n",
    "- labels as float 1-hot encodings."
   ]
  },
  {
   "cell_type": "code",
   "execution_count": 4,
   "metadata": {
    "cellView": "both",
    "colab": {
     "autoexec": {
      "startup": false,
      "wait_interval": 0
     },
     "output_extras": [
      {
       "item_id": 1
      }
     ]
    },
    "colab_type": "code",
    "executionInfo": {
     "elapsed": 11728,
     "status": "ok",
     "timestamp": 1449849322356,
     "user": {
      "color": "",
      "displayName": "",
      "isAnonymous": false,
      "isMe": true,
      "permissionId": "",
      "photoUrl": "",
      "sessionId": "0",
      "userId": ""
     },
     "user_tz": 480
    },
    "id": "IRSyYiIIGIzS",
    "outputId": "3f8996ee-3574-4f44-c953-5c8a04636582"
   },
   "outputs": [
    {
     "name": "stdout",
     "output_type": "stream",
     "text": [
      "Training set (200000, 784) (200000, 10)\n",
      "Validation set (10000, 784) (10000, 10)\n",
      "Test set (10000, 784) (10000, 10)\n"
     ]
    }
   ],
   "source": [
    "image_size = 28\n",
    "num_labels = 10\n",
    "\n",
    "def reformat(dataset, labels):\n",
    "  dataset = dataset.reshape((-1, image_size * image_size)).astype(np.float32)\n",
    "  # Map 1 to [0.0, 1.0, 0.0 ...], 2 to [0.0, 0.0, 1.0 ...]\n",
    "  labels = (np.arange(num_labels) == labels[:,None]).astype(np.float32)\n",
    "  return dataset, labels\n",
    "train_dataset, train_labels = reformat(train_dataset, train_labels)\n",
    "valid_dataset, valid_labels = reformat(valid_dataset, valid_labels)\n",
    "test_dataset, test_labels = reformat(test_dataset, test_labels)\n",
    "print('Training set', train_dataset.shape, train_labels.shape)\n",
    "print('Validation set', valid_dataset.shape, valid_labels.shape)\n",
    "print('Test set', test_dataset.shape, test_labels.shape)"
   ]
  },
  {
   "cell_type": "code",
   "execution_count": 5,
   "metadata": {
    "cellView": "both",
    "colab": {
     "autoexec": {
      "startup": false,
      "wait_interval": 0
     }
    },
    "colab_type": "code",
    "id": "RajPLaL_ZW6w"
   },
   "outputs": [],
   "source": [
    "def accuracy(predictions, labels):\n",
    "  return (100.0 * np.sum(np.argmax(predictions, 1) == np.argmax(labels, 1))\n",
    "          / predictions.shape[0])"
   ]
  },
  {
   "cell_type": "markdown",
   "metadata": {
    "colab_type": "text",
    "id": "sgLbUAQ1CW-1"
   },
   "source": [
    "---\n",
    "Problem 1\n",
    "---------\n",
    "\n",
    "Introduce and tune L2 regularization for both logistic and neural network models. Remember that L2 amounts to adding a penalty on the norm of the weights to the loss. In TensorFlow, you can compute the L2 loss for a tensor `t` using `nn.l2_loss(t)`. The right amount of regularization should improve your validation / test accuracy.\n",
    "\n",
    "---"
   ]
  },
  {
   "cell_type": "markdown",
   "metadata": {},
   "source": [
    "logits mod with reg"
   ]
  },
  {
   "cell_type": "code",
   "execution_count": 14,
   "metadata": {},
   "outputs": [],
   "source": [
    "batch_size = 128\n",
    "\n",
    "graph = tf.Graph()\n",
    "with graph.as_default():\n",
    "\n",
    "  # Input data. For the training data, we use a placeholder that will be fed\n",
    "  # at run time with a training minibatch.\n",
    "  tf_train_dataset = tf.placeholder(tf.float32,\n",
    "                                    shape=(batch_size, image_size * image_size))\n",
    "  tf_train_labels = tf.placeholder(tf.float32, shape=(batch_size, num_labels))\n",
    "  tf_valid_dataset = tf.constant(valid_dataset)\n",
    "  tf_test_dataset = tf.constant(test_dataset)\n",
    "  reg_scal = tf.placeholder(tf.float32)\n",
    "  \n",
    "  # Variables.\n",
    "  weights = tf.Variable(\n",
    "    tf.truncated_normal([image_size * image_size, num_labels]))\n",
    "  biases = tf.Variable(tf.zeros([num_labels]))\n",
    "  \n",
    "  # Training computation.\n",
    "  logits = tf.matmul(tf_train_dataset, weights) + biases\n",
    "  loss = tf.reduce_mean(\n",
    "    tf.nn.softmax_cross_entropy_with_logits(labels=tf_train_labels, logits=logits)) + reg_scal * tf.nn.l2_loss(weights)\n",
    "  \n",
    "  # Optimizer.\n",
    "  optimizer = tf.train.GradientDescentOptimizer(0.5).minimize(loss)\n",
    "  \n",
    "  # Predictions for the training, validation, and test data.\n",
    "  train_prediction = tf.nn.softmax(logits)\n",
    "  valid_prediction = tf.nn.softmax(\n",
    "    tf.matmul(tf_valid_dataset, weights) + biases)\n",
    "  test_prediction = tf.nn.softmax(tf.matmul(tf_test_dataset, weights) + biases)"
   ]
  },
  {
   "cell_type": "code",
   "execution_count": 15,
   "metadata": {},
   "outputs": [
    {
     "name": "stdout",
     "output_type": "stream",
     "text": [
      "Initialized\n",
      "Minibatch loss at step 0: 22.739794\n",
      "Minibatch accuracy: 3.1%\n",
      "Validation accuracy: 8.8%\n",
      "Minibatch loss at step 500: 3.631526\n",
      "Minibatch accuracy: 64.8%\n",
      "Validation accuracy: 75.4%\n",
      "Minibatch loss at step 1000: 1.657432\n",
      "Minibatch accuracy: 75.0%\n",
      "Validation accuracy: 77.5%\n",
      "Minibatch loss at step 1500: 1.258819\n",
      "Minibatch accuracy: 78.9%\n",
      "Validation accuracy: 79.6%\n",
      "Minibatch loss at step 2000: 1.108073\n",
      "Minibatch accuracy: 82.0%\n",
      "Validation accuracy: 81.1%\n",
      "Minibatch loss at step 2500: 0.809971\n",
      "Minibatch accuracy: 83.6%\n",
      "Validation accuracy: 81.4%\n",
      "Minibatch loss at step 3000: 0.916817\n",
      "Minibatch accuracy: 76.6%\n",
      "Validation accuracy: 81.9%\n",
      "Test accuracy: 88.1%\n"
     ]
    }
   ],
   "source": [
    "num_steps = 3001\n",
    "\n",
    "with tf.Session(graph=graph) as session:\n",
    "  tf.global_variables_initializer().run()\n",
    "  print(\"Initialized\")\n",
    "  for step in range(num_steps):\n",
    "    # Pick an offset within the training data, which has been randomized.\n",
    "    # Note: we could use better randomization across epochs.\n",
    "    offset = (step * batch_size) % (train_labels.shape[0] - batch_size)\n",
    "    # Generate a minibatch.\n",
    "    batch_data = train_dataset[offset:(offset + batch_size), :]\n",
    "    batch_labels = train_labels[offset:(offset + batch_size), :]\n",
    "    # Prepare a dictionary telling the session where to feed the minibatch.\n",
    "    # The key of the dictionary is the placeholder node of the graph to be fed,\n",
    "    # and the value is the numpy array to feed to it.\n",
    "    feed_dict = {tf_train_dataset : batch_data, tf_train_labels : batch_labels, reg_scal : 1.0e-3}\n",
    "    _, l, predictions = session.run(\n",
    "      [optimizer, loss, train_prediction], feed_dict=feed_dict)\n",
    "    if (step % 500 == 0):\n",
    "      print(\"Minibatch loss at step %d: %f\" % (step, l))\n",
    "      print(\"Minibatch accuracy: %.1f%%\" % accuracy(predictions, batch_labels))\n",
    "      print(\"Validation accuracy: %.1f%%\" % accuracy(\n",
    "        valid_prediction.eval(), valid_labels))\n",
    "  print(\"Test accuracy: %.1f%%\" % accuracy(test_prediction.eval(), test_labels))"
   ]
  },
  {
   "cell_type": "markdown",
   "metadata": {},
   "source": [
    "to optimize the meta para reg_scal"
   ]
  },
  {
   "cell_type": "code",
   "execution_count": 16,
   "metadata": {},
   "outputs": [
    {
     "data": {
      "image/png": "[encoded data removed]",
      "text/plain": [
       "<matplotlib.figure.Figure at 0x7fac9cf19b90>"
      ]
     },
     "metadata": {},
     "output_type": "display_data"
    }
   ],
   "source": [
    "num_steps = 3001\n",
    "reg_set = [pow(10,example) for example in np.arange(-4, -2, 0.1)]\n",
    "accuracy_set = []\n",
    "\n",
    "for reg_val in reg_set:\n",
    "  with tf.Session(graph=graph) as session:\n",
    "      tf.global_variables_initializer().run()\n",
    "      #print(\"Initialized\")\n",
    "      for step in range(num_steps):\n",
    "        # Pick an offset within the training data, which has been randomized.\n",
    "        # Note: we could use better randomization across epochs.\n",
    "        offset = (step * batch_size) % (train_labels.shape[0] - batch_size)\n",
    "        # Generate a minibatch.\n",
    "        batch_data = train_dataset[offset:(offset + batch_size), :]\n",
    "        batch_labels = train_labels[offset:(offset + batch_size), :]\n",
    "        # Prepare a dictionary telling the session where to feed the minibatch.\n",
    "        # The key of the dictionary is the placeholder node of the graph to be fed,\n",
    "        # and the value is the numpy array to feed to it.\n",
    "        feed_dict = {tf_train_dataset : batch_data, tf_train_labels : batch_labels, reg_scal : reg_val}\n",
    "        _, l, predictions = session.run(\n",
    "          [optimizer, loss, train_prediction], feed_dict=feed_dict)\n",
    "      accuracy_set.append(accuracy(test_prediction.eval(), test_labels))\n",
    "    \n",
    "plt.semilogx(reg_set, accuracy_set)\n",
    "plt.grid(True)\n",
    "plt.title('Test accuracy Vs regularization (logistic)')\n",
    "plt.show()\n"
   ]
  },
  {
   "cell_type": "markdown",
   "metadata": {},
   "source": [
    "neural network mod wit reg"
   ]
  },
  {
   "cell_type": "code",
   "execution_count": 27,
   "metadata": {},
   "outputs": [],
   "source": [
    "def construct_layer(dataflow, weights, biases):\n",
    "    return tf.add(tf.matmul(dataflow, weights), biases)\n",
    "\n",
    "def nn_mod_reg(train_dataset, train_labels, valid_dataset, valid_labels, test_dataset, test_labels, \n",
    "               batch_size, hidden_nodes, num_steps, reg_scal, step_print, keep_rate):\n",
    "    graph = tf.Graph()\n",
    "    with graph.as_default():\n",
    "\n",
    "      # Input data. For the training data, we use a placeholder that will be fed\n",
    "      # at run time with a training minibatch.\n",
    "      tf_train_dataset = tf.placeholder(tf.float32,\n",
    "                                        shape=(batch_size, image_size * image_size))\n",
    "      tf_train_labels = tf.placeholder(tf.float32, shape=(batch_size, num_labels))\n",
    "      tf_valid_dataset = tf.constant(valid_dataset)\n",
    "      tf_test_dataset = tf.constant(test_dataset)\n",
    "      tf_reg_scal = tf.placeholder(tf.float32)\n",
    "      tf_keep_rate = tf.placeholder(tf.float32)\n",
    "\n",
    "      # Variables.\n",
    "      hidden_layer_weights = [tf.Variable(tf.truncated_normal([image_size * image_size, hidden_nodes])),\n",
    "                             tf.Variable(tf.truncated_normal([hidden_nodes, num_labels]))]\n",
    "      hidden_layer_biases = [tf.Variable(tf.zeros([hidden_nodes])),\n",
    "                            tf.Variable(tf.zeros([num_labels]))]\n",
    "\n",
    "      # Training computation.\n",
    "      hidden_layer = construct_layer(tf_train_dataset, hidden_layer_weights[0], hidden_layer_biases[0])\n",
    "      hidden_layer = tf.nn.relu(hidden_layer)\n",
    "      hidden_layer = tf.nn.dropout(hidden_layer, tf_keep_rate)\n",
    "      logits = construct_layer(hidden_layer, hidden_layer_weights[1], hidden_layer_biases[1])\n",
    "      loss = tf.reduce_mean(\n",
    "        tf.nn.softmax_cross_entropy_with_logits(labels=tf_train_labels, logits=logits)) + tf_reg_scal * \\\n",
    "        (tf.nn.l2_loss(hidden_layer_weights[0]) + tf.nn.l2_loss(hidden_layer_weights[1]))\n",
    "\n",
    "      # Optimizer.\n",
    "      optimizer = tf.train.GradientDescentOptimizer(0.5).minimize(loss)\n",
    "\n",
    "      # Predictions for the training, validation, and test data.\n",
    "      train_prediction = tf.nn.softmax(logits)\n",
    "      valid_hidden_layer = tf.nn.relu(construct_layer(tf_valid_dataset, hidden_layer_weights[0], hidden_layer_biases[0]))\n",
    "      valid_prediction = tf.nn.softmax(\n",
    "          construct_layer(valid_hidden_layer,hidden_layer_weights[1],hidden_layer_biases[1]))\n",
    "      test_hidden_layer = tf.nn.relu(construct_layer(tf_test_dataset, hidden_layer_weights[0], hidden_layer_biases[0]))\n",
    "      test_prediction = tf.nn.softmax(\n",
    "          construct_layer(test_hidden_layer,hidden_layer_weights[1],hidden_layer_biases[1]))\n",
    "\n",
    "    with tf.Session(graph=graph) as session:\n",
    "      tf.global_variables_initializer().run()\n",
    "      print(\"Initialized\")\n",
    "      for step in range(num_steps):\n",
    "        # Pick an offset within the training data, which has been randomized.\n",
    "        # Note: we could use better randomization across epochs.\n",
    "        offset = (step * batch_size) % (train_labels.shape[0] - batch_size)\n",
    "        # Generate a minibatch.\n",
    "        batch_data = train_dataset[offset:(offset + batch_size), :]\n",
    "        batch_labels = train_labels[offset:(offset + batch_size), :]\n",
    "        # Prepare a dictionary telling the session where to feed the minibatch.\n",
    "        # The key of the dictionary is the placeholder node of the graph to be fed,\n",
    "        # and the value is the numpy array to feed to it.\n",
    "        feed_dict = {tf_train_dataset: batch_data, tf_train_labels: batch_labels, \n",
    "                    tf_reg_scal: reg_scal, tf_keep_rate: keep_rate}\n",
    "        _, l, predictions = session.run(\n",
    "          [optimizer, loss, train_prediction], feed_dict=feed_dict)\n",
    "        if (step % step_print == 0):\n",
    "          print(\"Minibatch loss at step %d: %f\" % (step, l))\n",
    "          print(\"Minibatch accuracy: %.1f%%\" % accuracy(predictions, batch_labels))\n",
    "          print(\"Validation accuracy: %.1f%%\" % accuracy(\n",
    "            valid_prediction.eval(), valid_labels))\n",
    "      test_accuracy = accuracy(test_prediction.eval(), test_labels)\n",
    "    return test_accuracy\n"
   ]
  },
  {
   "cell_type": "code",
   "execution_count": 28,
   "metadata": {},
   "outputs": [
    {
     "name": "stdout",
     "output_type": "stream",
     "text": [
      "Initialized\n",
      "Minibatch loss at step 0: 627.665100\n",
      "Minibatch accuracy: 9.4%\n",
      "Validation accuracy: 32.7%\n",
      "Minibatch loss at step 500: 204.488098\n",
      "Minibatch accuracy: 67.2%\n",
      "Validation accuracy: 76.1%\n",
      "Minibatch loss at step 1000: 116.747467\n",
      "Minibatch accuracy: 79.7%\n",
      "Validation accuracy: 81.3%\n",
      "Minibatch loss at step 1500: 69.374741\n",
      "Minibatch accuracy: 81.2%\n",
      "Validation accuracy: 82.9%\n",
      "Minibatch loss at step 2000: 41.454597\n",
      "Minibatch accuracy: 87.5%\n",
      "Validation accuracy: 84.6%\n",
      "Minibatch loss at step 2500: 25.259750\n",
      "Minibatch accuracy: 89.8%\n",
      "Validation accuracy: 86.1%\n",
      "Minibatch loss at step 3000: 15.624197\n",
      "Minibatch accuracy: 83.6%\n",
      "Validation accuracy: 87.0%\n",
      "Test accuracy: 92.6%\n"
     ]
    }
   ],
   "source": [
    "batch_size_val = 128\n",
    "hidden_nodes_val = 1024\n",
    "num_steps_val = 3001\n",
    "step_print_val = 500\n",
    "reg_scal_val = 1.e-3\n",
    "keep_rate_val = 1.\n",
    "\n",
    "test_accuracy = nn_mod_reg(train_dataset, train_labels, valid_dataset, valid_labels, test_dataset, test_labels, \n",
    "               batch_size_val, hidden_nodes_val, num_steps_val, reg_scal_val, step_print_val, keep_rate_val)\n",
    "print('Test accuracy: %.1f%%' % test_accuracy)"
   ]
  },
  {
   "cell_type": "markdown",
   "metadata": {
    "colab_type": "text",
    "id": "na8xX2yHZzNF"
   },
   "source": [
    "---\n",
    "Problem 2\n",
    "---------\n",
    "Let's demonstrate an extreme case of overfitting. Restrict your training data to just a few batches. What happens?\n",
    "\n",
    "---"
   ]
  },
  {
   "cell_type": "markdown",
   "metadata": {},
   "source": [
    "Minimize the training data to just a few batches while the batchsize remain unchanged.\n",
    "And of course to turn off the regularization"
   ]
  },
  {
   "cell_type": "code",
   "execution_count": 14,
   "metadata": {},
   "outputs": [
    {
     "name": "stdout",
     "output_type": "stream",
     "text": [
      "Initialized\n",
      "Minibatch loss at step 0: 307.185181\n",
      "Minibatch accuracy: 11.7%\n",
      "Validation accuracy: 24.2%\n",
      "Minibatch loss at step 20: 1.567490\n",
      "Minibatch accuracy: 97.7%\n",
      "Validation accuracy: 72.9%\n",
      "Minibatch loss at step 40: 0.000000\n",
      "Minibatch accuracy: 100.0%\n",
      "Validation accuracy: 73.1%\n",
      "Minibatch loss at step 60: 0.000000\n",
      "Minibatch accuracy: 100.0%\n",
      "Validation accuracy: 73.1%\n",
      "Minibatch loss at step 80: 0.000000\n",
      "Minibatch accuracy: 100.0%\n",
      "Validation accuracy: 73.1%\n",
      "Minibatch loss at step 100: 0.000000\n",
      "Minibatch accuracy: 100.0%\n",
      "Validation accuracy: 73.1%\n",
      "Minibatch loss at step 120: 0.000000\n",
      "Minibatch accuracy: 100.0%\n",
      "Validation accuracy: 73.1%\n",
      "Minibatch loss at step 140: 0.000000\n",
      "Minibatch accuracy: 100.0%\n",
      "Validation accuracy: 73.1%\n",
      "Minibatch loss at step 160: 0.000000\n",
      "Minibatch accuracy: 100.0%\n",
      "Validation accuracy: 73.1%\n",
      "Minibatch loss at step 180: 0.000000\n",
      "Minibatch accuracy: 100.0%\n",
      "Validation accuracy: 73.1%\n",
      "Minibatch loss at step 200: 0.000000\n",
      "Minibatch accuracy: 100.0%\n",
      "Validation accuracy: 73.1%\n",
      "Test accuracy: 80.5%\n"
     ]
    }
   ],
   "source": [
    "batch_size_val = 128\n",
    "hidden_nodes_val = 1024\n",
    "num_steps_val = 201\n",
    "step_print_val = 20\n",
    "reg_scal_val = 0\n",
    "keep_rate_val = 1.\n",
    "\n",
    "train_data_len = 4 * batch_size_val\n",
    "train_dataset_min = train_dataset[:train_data_len,:]\n",
    "train_labels_min = train_labels[:train_data_len]\n",
    "\n",
    "test_accuracy = nn_mod_reg(train_dataset_min, train_labels_min, valid_dataset, valid_labels, test_dataset, test_labels, \n",
    "               batch_size_val, hidden_nodes_val, num_steps_val, reg_scal_val, step_print_val, keep_rate_val)\n",
    "print('Test accuracy: %.1f%%' % test_accuracy)"
   ]
  },
  {
   "cell_type": "markdown",
   "metadata": {
    "colab_type": "text",
    "id": "ww3SCBUdlkRc"
   },
   "source": [
    "---\n",
    "Problem 3\n",
    "---------\n",
    "Introduce Dropout on the hidden layer of the neural network. Remember: Dropout should only be introduced during training, not evaluation, otherwise your evaluation results would be stochastic as well. TensorFlow provides `nn.dropout()` for that, but you have to make sure it's only inserted during training.\n",
    "\n",
    "What happens to our extreme overfitting case?\n",
    "\n",
    "---"
   ]
  },
  {
   "cell_type": "markdown",
   "metadata": {},
   "source": [
    "I'll add dropout parameter function in the definiton of Problem 1"
   ]
  },
  {
   "cell_type": "code",
   "execution_count": 15,
   "metadata": {},
   "outputs": [
    {
     "name": "stdout",
     "output_type": "stream",
     "text": [
      "Initialized\n",
      "Minibatch loss at step 0: 434.961029\n",
      "Minibatch accuracy: 10.9%\n",
      "Validation accuracy: 37.4%\n",
      "Minibatch loss at step 20: 21.008263\n",
      "Minibatch accuracy: 91.4%\n",
      "Validation accuracy: 69.4%\n",
      "Minibatch loss at step 40: 1.219951\n",
      "Minibatch accuracy: 98.4%\n",
      "Validation accuracy: 74.3%\n",
      "Minibatch loss at step 60: 5.099411\n",
      "Minibatch accuracy: 96.1%\n",
      "Validation accuracy: 73.6%\n",
      "Minibatch loss at step 80: 0.479859\n",
      "Minibatch accuracy: 98.4%\n",
      "Validation accuracy: 75.4%\n",
      "Minibatch loss at step 100: 0.342255\n",
      "Minibatch accuracy: 99.2%\n",
      "Validation accuracy: 75.1%\n",
      "Minibatch loss at step 120: 0.000000\n",
      "Minibatch accuracy: 100.0%\n",
      "Validation accuracy: 75.7%\n",
      "Minibatch loss at step 140: 0.591197\n",
      "Minibatch accuracy: 98.4%\n",
      "Validation accuracy: 76.1%\n",
      "Minibatch loss at step 160: 0.545743\n",
      "Minibatch accuracy: 99.2%\n",
      "Validation accuracy: 75.5%\n",
      "Minibatch loss at step 180: 0.000000\n",
      "Minibatch accuracy: 100.0%\n",
      "Validation accuracy: 76.2%\n",
      "Minibatch loss at step 200: 0.000000\n",
      "Minibatch accuracy: 100.0%\n",
      "Validation accuracy: 76.0%\n",
      "Test accuracy: 83.3%\n"
     ]
    }
   ],
   "source": [
    "batch_size_val = 128\n",
    "hidden_nodes_val = 1024\n",
    "num_steps_val = 201\n",
    "step_print_val = 20\n",
    "reg_scal_val = 0\n",
    "keep_rate_val = 0.5\n",
    "\n",
    "train_data_len = 4 * batch_size_val\n",
    "train_dataset_min = train_dataset[:train_data_len,:]\n",
    "train_labels_min = train_labels[:train_data_len]\n",
    "\n",
    "test_accuracy = nn_mod_reg(train_dataset_min, train_labels_min, valid_dataset, valid_labels, test_dataset, test_labels, \n",
    "               batch_size_val, hidden_nodes_val, num_steps_val, reg_scal_val, step_print_val, keep_rate_val)\n",
    "print('Test accuracy: %.1f%%' % test_accuracy)"
   ]
  },
  {
   "cell_type": "markdown",
   "metadata": {
    "colab_type": "text",
    "id": "-b1hTz3VWZjw"
   },
   "source": [
    "---\n",
    "Problem 4\n",
    "---------\n",
    "\n",
    "Try to get the best performance you can using a multi-layer model! The best reported test accuracy using a deep network is [97.1%](http://yaroslavvb.blogspot.com/2011/09/notmnist-dataset.html?showComment=1391023266211#c8758720086795711595).\n",
    "\n",
    "One avenue you can explore is to add multiple layers.\n",
    "\n",
    "Another one is to use learning rate decay:\n",
    "\n",
    "    global_step = tf.Variable(0)  # count the number of steps taken.\n",
    "    learning_rate = tf.train.exponential_decay(0.5, global_step, ...)\n",
    "    optimizer = tf.train.GradientDescentOptimizer(learning_rate).minimize(loss, global_step=global_step)\n",
    " \n",
    " ---\n"
   ]
  },
  {
   "cell_type": "markdown",
   "metadata": {},
   "source": [
    "Upgrade my mod based on Problem 1 with lr decay and increased depth !"
   ]
  },
  {
   "cell_type": "code",
   "execution_count": 8,
   "metadata": {},
   "outputs": [],
   "source": [
    "def layer_logits(dataflow,\n",
    "                 weights, \n",
    "                 biases):\n",
    "    return tf.add(tf.matmul(dataflow, weights), biases)\n",
    "\n",
    "def comput_train_logits(train_dataset,\n",
    "                        weights,\n",
    "                        biases,\n",
    "                        keep_rate):\n",
    "    layer1_train = tf.nn.relu(layer_logits(train_dataset, weights[0], biases[0]))\n",
    "    layer1_train = tf.nn.dropout(layer1_train, keep_rate)\n",
    "    layer2_train = tf.nn.relu(layer_logits(layer1_train, weights[1], biases[1]))\n",
    "    layer2_train = tf.nn.dropout(layer2_train, keep_rate)\n",
    "    layer3_train = tf.nn.relu(layer_logits(layer2_train, weights[2], biases[2]))\n",
    "    layer3_train = tf.nn.dropout(layer3_train, keep_rate)\n",
    "    logits = layer_logits(layer3_train, weights[3], biases[3])\n",
    "    return logits\n",
    "    \n",
    "def validate_test_prediction(dataset,\n",
    "                             weights,\n",
    "                             biases):\n",
    "    hidden_layer1 = tf.nn.relu(layer_logits(dataset, weights[0], biases[0]))\n",
    "    hidden_layer2 = tf.nn.relu(layer_logits(hidden_layer1, weights[1], biases[1]))\n",
    "    hidden_layer3 = tf.nn.relu(layer_logits(hidden_layer2, weights[2], biases[2]))\n",
    "    prediction = tf.nn.softmax(layer_logits(hidden_layer3, weights[3],biases[3]))\n",
    "    return prediction\n",
    "\n",
    "def dnn_mod(train_dataset,\n",
    "               train_labels, \n",
    "               valid_dataset, \n",
    "               valid_labels, \n",
    "               test_dataset, \n",
    "               test_labels, \n",
    "               batch_size, \n",
    "               hidden_nodes, \n",
    "               num_steps, \n",
    "               reg_scal, \n",
    "               step_print, \n",
    "               keep_rate, \n",
    "               learning_rate,\n",
    "               lr_decay_step):\n",
    "    graph = tf.Graph()\n",
    "    with graph.as_default():\n",
    "\n",
    "      # Input data. For the training data, we use a placeholder that will be fed\n",
    "      # at run time with a training minibatch.\n",
    "      num_labels = np.shape(train_labels)[1]\n",
    "      tf_train_dataset = tf.placeholder(tf.float32,\n",
    "                                        shape=(batch_size, image_size * image_size))\n",
    "      tf_train_labels = tf.placeholder(tf.float32, \n",
    "                                       shape=(batch_size, num_labels))\n",
    "      tf_valid_dataset = tf.constant(valid_dataset)\n",
    "      tf_test_dataset = tf.constant(test_dataset)\n",
    "      tf_global_step = tf.Variable(0) # count the number of steps taken.\n",
    "      tf_learning_rate = tf.train.exponential_decay(learning_rate, tf_global_step, lr_decay_step, 0.75, staircase = True)\n",
    "\n",
    "      # Variables.\n",
    "      # Key point: stddev of weight distribution should be shrink to make my mod unsertain at the beginning, \n",
    "      # 1 is far from good\n",
    "      layer_weights = [tf.Variable(tf.truncated_normal([image_size * image_size, hidden_nodes[0]],\n",
    "                                                      stddev=np.sqrt(1.0 / hidden_nodes[0]))),\n",
    "                       tf.Variable(tf.truncated_normal([hidden_nodes[0], hidden_nodes[1]],\n",
    "                                                      stddev=np.sqrt(1.0 / hidden_nodes[1]))),\n",
    "                       tf.Variable(tf.truncated_normal([hidden_nodes[1], hidden_nodes[2]],\n",
    "                                                      stddev=np.sqrt(1.0 / hidden_nodes[2]))),\n",
    "                       tf.Variable(tf.truncated_normal([hidden_nodes[2], num_labels],\n",
    "                                                      stddev=np.sqrt(1.0 / num_labels)))]\n",
    "      layer_biases = [tf.Variable(tf.zeros([hidden_nodes[0]])),\n",
    "                      tf.Variable(tf.zeros([hidden_nodes[1]])),\n",
    "                      tf.Variable(tf.zeros([hidden_nodes[2]])),\n",
    "                      tf.Variable(tf.zeros([num_labels]))]\n",
    "\n",
    "      # Training computation.\n",
    "      train_logits = comput_train_logits(tf_train_dataset,\n",
    "                                        layer_weights,\n",
    "                                        layer_biases,\n",
    "                                        keep_rate)\n",
    "      loss = tf.reduce_mean(\n",
    "        tf.nn.softmax_cross_entropy_with_logits(labels=tf_train_labels, logits=train_logits)) + reg_scal * \\\n",
    "        (tf.nn.l2_loss(layer_weights[0]) + \n",
    "         tf.nn.l2_loss(layer_weights[1]) +\n",
    "         tf.nn.l2_loss(layer_weights[2]) +\n",
    "         tf.nn.l2_loss(layer_weights[3]))\n",
    "\n",
    "      # Optimizer.\n",
    "      optimizer = tf.train.GradientDescentOptimizer(tf_learning_rate).minimize(loss, global_step = tf_global_step)\n",
    "      #optimizer = tf.train.GradientDescentOptimizer(0.5).minimize(loss)\n",
    "\n",
    "      # Predictions for the training, validation, and test data.\n",
    "      train_prediction = tf.nn.softmax(train_logits)\n",
    "      valid_prediction = validate_test_prediction(tf_valid_dataset, layer_weights, layer_biases)\n",
    "      test_prediction = validate_test_prediction(tf_test_dataset, layer_weights, layer_biases)\n",
    "\n",
    "    with tf.Session(graph=graph) as session:\n",
    "      tf.global_variables_initializer().run()\n",
    "      print(\"Initialized\")\n",
    "      for step in range(num_steps):\n",
    "        # Pick an offset within the training data, which has been randomized.\n",
    "        # Note: we could use better randomization across epochs.\n",
    "        offset = (step * batch_size) % (train_labels.shape[0] - batch_size)\n",
    "        # Generate a minibatch.\n",
    "        batch_data = train_dataset[offset:(offset + batch_size), :]\n",
    "        batch_labels = train_labels[offset:(offset + batch_size), :]\n",
    "        # Prepare a dictionary telling the session where to feed the minibatch.\n",
    "        # The key of the dictionary is the placeholder node of the graph to be fed,\n",
    "        # and the value is the numpy array to feed to it.\n",
    "        feed_dict = {tf_train_dataset: batch_data, \n",
    "                     tf_train_labels: batch_labels}\n",
    "        _, l, predictions = session.run(\n",
    "              [optimizer, loss, train_prediction], feed_dict=feed_dict)\n",
    "        if (step % step_print == 0):\n",
    "          print(\"Minibatch loss at step %d: %f\" % (step, l))\n",
    "          print(\"Minibatch accuracy: %.2f%%\" % accuracy(predictions, batch_labels))\n",
    "          print(\"Validation accuracy: %.2f%%\" % accuracy(\n",
    "                valid_prediction.eval(), valid_labels))\n",
    "      test_accuracy = accuracy(test_prediction.eval(), test_labels)\n",
    "    return test_accuracy\n"
   ]
  },
  {
   "cell_type": "markdown",
   "metadata": {},
   "source": [
    "Try diferent combination of meta parameters with 3 hidden layers"
   ]
  },
  {
   "cell_type": "code",
   "execution_count": 9,
   "metadata": {},
   "outputs": [
    {
     "name": "stdout",
     "output_type": "stream",
     "text": [
      "Training set (200000, 784) (200000, 10)\n",
      "Validation set (10000, 784) (10000, 10)\n",
      "Test set (10000, 784) (10000, 10)\n",
      "Initialized\n",
      "Minibatch loss at step 0: 3.546184\n",
      "Minibatch accuracy: 10.40%\n",
      "Validation accuracy: 25.66%\n",
      "Minibatch loss at step 250: 1.042279\n",
      "Minibatch accuracy: 86.60%\n",
      "Validation accuracy: 86.11%\n",
      "Minibatch loss at step 500: 0.882954\n",
      "Minibatch accuracy: 86.70%\n",
      "Validation accuracy: 87.61%\n",
      "Minibatch loss at step 750: 0.791910\n",
      "Minibatch accuracy: 87.20%\n",
      "Validation accuracy: 88.18%\n",
      "Minibatch loss at step 1000: 0.688816\n",
      "Minibatch accuracy: 88.60%\n",
      "Validation accuracy: 89.06%\n",
      "Minibatch loss at step 1250: 0.606736\n",
      "Minibatch accuracy: 90.20%\n",
      "Validation accuracy: 89.55%\n",
      "Minibatch loss at step 1500: 0.561895\n",
      "Minibatch accuracy: 89.30%\n",
      "Validation accuracy: 89.39%\n",
      "Minibatch loss at step 1750: 0.555235\n",
      "Minibatch accuracy: 89.50%\n",
      "Validation accuracy: 89.91%\n",
      "Minibatch loss at step 2000: 0.490005\n",
      "Minibatch accuracy: 90.60%\n",
      "Validation accuracy: 89.71%\n",
      "Minibatch loss at step 2250: 0.516174\n",
      "Minibatch accuracy: 88.80%\n",
      "Validation accuracy: 89.91%\n",
      "Minibatch loss at step 2500: 0.465087\n",
      "Minibatch accuracy: 90.90%\n",
      "Validation accuracy: 90.20%\n",
      "Minibatch loss at step 2750: 0.511259\n",
      "Minibatch accuracy: 89.00%\n",
      "Validation accuracy: 90.16%\n",
      "Minibatch loss at step 3000: 0.433397\n",
      "Minibatch accuracy: 91.70%\n",
      "Validation accuracy: 90.42%\n",
      "Minibatch loss at step 3250: 0.409498\n",
      "Minibatch accuracy: 92.60%\n",
      "Validation accuracy: 90.41%\n",
      "Minibatch loss at step 3500: 0.430385\n",
      "Minibatch accuracy: 91.40%\n",
      "Validation accuracy: 90.27%\n",
      "Minibatch loss at step 3750: 0.412227\n",
      "Minibatch accuracy: 91.90%\n",
      "Validation accuracy: 90.64%\n",
      "Minibatch loss at step 4000: 0.415402\n",
      "Minibatch accuracy: 92.20%\n",
      "Validation accuracy: 90.48%\n",
      "Minibatch loss at step 4250: 0.400372\n",
      "Minibatch accuracy: 92.40%\n",
      "Validation accuracy: 90.56%\n",
      "Minibatch loss at step 4500: 0.386884\n",
      "Minibatch accuracy: 92.00%\n",
      "Validation accuracy: 90.46%\n",
      "Minibatch loss at step 4750: 0.389232\n",
      "Minibatch accuracy: 92.30%\n",
      "Validation accuracy: 90.69%\n",
      "Minibatch loss at step 5000: 0.345451\n",
      "Minibatch accuracy: 93.80%\n",
      "Validation accuracy: 90.64%\n",
      "Test accuracy: 95.97%\n"
     ]
    }
   ],
   "source": [
    "#check dataset\n",
    "print('Training set', train_dataset.shape, train_labels.shape)\n",
    "print('Validation set', valid_dataset.shape, valid_labels.shape)\n",
    "print('Test set', test_dataset.shape, test_labels.shape)\n",
    "\n",
    "batch_size_val = 1000\n",
    "hidden_nodes_set = [1024, 128, 64]\n",
    "num_steps_val = 5001\n",
    "step_print_val = 250\n",
    "reg_scal_val = 1.e-3\n",
    "keep_rate_val = 0.8\n",
    "learning_rate_val = 0.6\n",
    "lr_decay_step = 1000\n",
    "\n",
    "test_accuracy = dnn_mod(train_dataset,\n",
    "                       train_labels, \n",
    "                       valid_dataset, \n",
    "                       valid_labels, \n",
    "                       test_dataset, \n",
    "                       test_labels, \n",
    "                       batch_size_val, \n",
    "                       hidden_nodes_set, \n",
    "                       num_steps_val, \n",
    "                       reg_scal_val, \n",
    "                       step_print_val, \n",
    "                       keep_rate_val, \n",
    "                       learning_rate_val,\n",
    "                       lr_decay_step)\n",
    "print('Test accuracy: %.2f%%' % test_accuracy)"
   ]
  },
  {
   "cell_type": "code",
   "execution_count": 12,
   "metadata": {},
   "outputs": [
    {
     "name": "stdout",
     "output_type": "stream",
     "text": [
      "Initialized\n",
      "Minibatch loss at step 0: 3.904206\n",
      "Minibatch accuracy: 9.40%\n",
      "Validation accuracy: 11.73%\n",
      "Minibatch loss at step 300: 1.008446\n",
      "Minibatch accuracy: 86.80%\n",
      "Validation accuracy: 86.57%\n",
      "Minibatch loss at step 600: 0.845599\n",
      "Minibatch accuracy: 87.80%\n",
      "Validation accuracy: 88.07%\n",
      "Minibatch loss at step 900: 0.724041\n",
      "Minibatch accuracy: 88.90%\n",
      "Validation accuracy: 88.55%\n",
      "Minibatch loss at step 1200: 0.627464\n",
      "Minibatch accuracy: 90.70%\n",
      "Validation accuracy: 89.37%\n",
      "Minibatch loss at step 1500: 0.597402\n",
      "Minibatch accuracy: 89.80%\n",
      "Validation accuracy: 89.38%\n",
      "Minibatch loss at step 1800: 0.573616\n",
      "Minibatch accuracy: 89.70%\n",
      "Validation accuracy: 89.66%\n",
      "Minibatch loss at step 2100: 0.541705\n",
      "Minibatch accuracy: 90.50%\n",
      "Validation accuracy: 89.89%\n",
      "Minibatch loss at step 2400: 0.538990\n",
      "Minibatch accuracy: 90.60%\n",
      "Validation accuracy: 90.18%\n",
      "Minibatch loss at step 2700: 0.493129\n",
      "Minibatch accuracy: 91.90%\n",
      "Validation accuracy: 90.17%\n",
      "Minibatch loss at step 3000: 0.473109\n",
      "Minibatch accuracy: 91.50%\n",
      "Validation accuracy: 90.29%\n",
      "Minibatch loss at step 3300: 0.484806\n",
      "Minibatch accuracy: 91.70%\n",
      "Validation accuracy: 90.35%\n",
      "Minibatch loss at step 3600: 0.451299\n",
      "Minibatch accuracy: 92.20%\n",
      "Validation accuracy: 90.57%\n",
      "Minibatch loss at step 3900: 0.461132\n",
      "Minibatch accuracy: 92.00%\n",
      "Validation accuracy: 90.31%\n",
      "Minibatch loss at step 4200: 0.440615\n",
      "Minibatch accuracy: 92.40%\n",
      "Validation accuracy: 90.47%\n",
      "Minibatch loss at step 4500: 0.447049\n",
      "Minibatch accuracy: 91.20%\n",
      "Validation accuracy: 90.43%\n",
      "Minibatch loss at step 4800: 0.444215\n",
      "Minibatch accuracy: 92.40%\n",
      "Validation accuracy: 90.56%\n",
      "Minibatch loss at step 5100: 0.429453\n",
      "Minibatch accuracy: 92.10%\n",
      "Validation accuracy: 90.65%\n",
      "Minibatch loss at step 5400: 0.463386\n",
      "Minibatch accuracy: 90.60%\n",
      "Validation accuracy: 90.60%\n",
      "Minibatch loss at step 5700: 0.474425\n",
      "Minibatch accuracy: 91.40%\n",
      "Validation accuracy: 90.55%\n",
      "Minibatch loss at step 6000: 0.423990\n",
      "Minibatch accuracy: 92.20%\n",
      "Validation accuracy: 90.58%\n",
      "Minibatch loss at step 6300: 0.393682\n",
      "Minibatch accuracy: 93.60%\n",
      "Validation accuracy: 90.59%\n",
      "Minibatch loss at step 6600: 0.413883\n",
      "Minibatch accuracy: 92.90%\n",
      "Validation accuracy: 90.62%\n",
      "Minibatch loss at step 6900: 0.436281\n",
      "Minibatch accuracy: 92.40%\n",
      "Validation accuracy: 90.64%\n",
      "Minibatch loss at step 7200: 0.467162\n",
      "Minibatch accuracy: 91.80%\n",
      "Validation accuracy: 90.70%\n",
      "Minibatch loss at step 7500: 0.480652\n",
      "Minibatch accuracy: 90.90%\n",
      "Validation accuracy: 90.67%\n",
      "Minibatch loss at step 7800: 0.435389\n",
      "Minibatch accuracy: 91.50%\n",
      "Validation accuracy: 90.69%\n",
      "Test accuracy: 96.06%\n"
     ]
    }
   ],
   "source": [
    "batch_size_val = 1000\n",
    "hidden_nodes_set = [1024, 128, 64]\n",
    "num_steps_val = 8001\n",
    "step_print_val = 300\n",
    "reg_scal_val = 1.e-3\n",
    "keep_rate_val = 0.8\n",
    "learning_rate_val = 0.6\n",
    "lr_decay_step = 500\n",
    "\n",
    "test_accuracy = dnn_mod(train_dataset,\n",
    "                       train_labels, \n",
    "                       valid_dataset, \n",
    "                       valid_labels, \n",
    "                       test_dataset, \n",
    "                       test_labels, \n",
    "                       batch_size_val, \n",
    "                       hidden_nodes_set, \n",
    "                       num_steps_val, \n",
    "                       reg_scal_val, \n",
    "                       step_print_val, \n",
    "                       keep_rate_val, \n",
    "                       learning_rate_val,\n",
    "                       lr_decay_step)\n",
    "print('Test accuracy: %.2f%%' % test_accuracy)"
   ]
  }
 ],
 "metadata": {
  "colab": {
   "default_view": {},
   "name": "3_regularization.ipynb",
   "provenance": [],
   "version": "0.3.2",
   "views": {}
  },
  "kernelspec": {
   "display_name": "Python 2",
   "language": "python",
   "name": "python2"
  },
  "language_info": {
   "codemirror_mode": {
    "name": "ipython",
    "version": 2
   },
   "file_extension": ".py",
   "mimetype": "text/x-python",
   "name": "python",
   "nbconvert_exporter": "python",
   "pygments_lexer": "ipython2",
   "version": "2.7.12"
  }
 },
 "nbformat": 4,
 "nbformat_minor": 1
}
